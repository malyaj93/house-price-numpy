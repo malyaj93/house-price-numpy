{
 "cells": [
  {
   "cell_type": "code",
   "execution_count": 16,
   "metadata": {},
   "outputs": [],
   "source": [
    "##############################################################\n",
    "# Authors: Malyaj Sirothia                                   #\n",
    "# CWID:    **886687508**                                     #\n",
    "# Due Date: 12 Mar 2021                                      #\n",
    "##############################################################\n",
    "\n",
    "\n",
    "#############################################################################################################################\n",
    "# _____________PROJECT DESCRITPION_________________                                                                         #\n",
    "#                                                                                                                           #\n",
    "#    The file boston.npz contains a version of the Boston house-price dataset in NumPy .npz format.                         #\n",
    "#    See http://lib.stat.cmu.edu/datasets/boston at the CMU StatLib Datasets Archive for a description of the data.         #\n",
    "#                                                                                                                           #\n",
    "#    1. Use the NumPy load() method to read the dataset. The data contains two arrays: 'features',                          #\n",
    "#       which contains the variables CRIM through LSTAT, and 'target', which contains the variable MEDV.                    #\n",
    "#    2. Set aside the first 102 items (20% of the total) as a test set, and the remaining 404 items for training.           #\n",
    "#    3. Create a scatterplot of the training data showing the relationship between the                                      #\n",
    "#       number of rooms and the median value of a home. Does the relationship appear to be linear?                          #\n",
    "#    4. With RM as X and MEDV as t, use np.linalg.inv() to compute w for the training set.                                  #\n",
    "#       What is the equation for MEDV as a linear function of RM?                                                           #\n",
    "#    5. Use w to add a line representing the least squares fit to your scatter plot from experiment (3).                    #\n",
    "#       How well does the model appear to fit the training set?                                                             #\n",
    "#    6. Use w to find the predicted response for each value of the RM attribute in the training set,                        #\n",
    "#       then compute the average loss 𝓛 for the model.                                                                      #\n",
    "#    7. Repeat experiment (6) for the test set. How do the training and test MSE values compare?                            #\n",
    "#       What accounts for the difference?                                                                                   #\n",
    "#    8. Repeat experiments (4), (6), and (7) using all 13 input features as X. How do                                       #\n",
    "#       the training and test MSEs for this model compare to the values you found for experiment (7)?                       #\n",
    "#       What accounts for the difference?                                                                                   #\n",
    "#    9. Using the value that you found for w for this new model, determine for each feature how much a one unit             #\n",
    "#       increase in that feature would change the median value of a home. Based on the description of the dataset           #\n",
    "#       provided by StatLib, convert your answer to dollars.                                                                #\n",
    "#    10.Based on the amount of change in the value of a home, which features are most important?                            #\n",
    "#                                                                                                                           #\n",
    "#       This function should list the name and attendance statistics for any student whose attendance in any week falls     #\n",
    "#       below the bottom fence for that week. Tardy students should be listed in the same                                   #\n",
    "#       order as they appear in the original .csv file.                                                                     #\n",
    "#############################################################################################################################\n",
    "\n",
    "\n",
    "##############################################################\n",
    "# ______________Working Condition_________________           #\n",
    "#                                                            #\n",
    "#       All the experiments are working.                     #\n",
    "#       Please find the code in the below cell               #\n",
    "##############################################################    "
   ]
  },
  {
   "cell_type": "code",
   "execution_count": 17,
   "metadata": {},
   "outputs": [],
   "source": [
    "import numpy as np\n",
    "import matplotlib.pyplot as plt\n",
    "\n",
    "#loading the file (Question 1)\n",
    "dataset = np.load(\"./boston.npz\")\n",
    "\n",
    "#Splitting the data in 2 parts, training & validation(Question 2)\n",
    "validationPart_Features = dataset['features'][:102]\n",
    "validationPart_Target = dataset['target'][:102]\n",
    "trainingPart_Features = dataset['features'][102:]\n",
    "trainingPart_Target = dataset['target'][102:]\n",
    "\n",
    "\n",
    "#storing values for variable RM (Average number of rooms) from 'features' file\n",
    "rm = trainingPart_Features[:,5][:,None]\n",
    "\n",
    "#storing value for the MEDV column from 'target' file\n",
    "medv = trainingPart_Target[:,None]"
   ]
  },
  {
   "cell_type": "code",
   "execution_count": 18,
   "metadata": {},
   "outputs": [
    {
     "data": {
      "image/png": "[encoded data removed]",
      "text/plain": [
       "<Figure size 432x288 with 1 Axes>"
      ]
     },
     "metadata": {
      "needs_background": "light"
     },
     "output_type": "display_data"
    }
   ],
   "source": [
    "#plotting the data between Average number of rooms and median values (question 3)\n",
    "plt.plot(rm, medv, 'ro')\n",
    "plt.xlabel('Median Values of homes')\n",
    "plt.ylabel('Average Room numbers')\n",
    "plt.grid(axis='x', color='0.5')\n",
    "plt.grid(axis='y', color='0.5')"
   ]
  },
  {
   "cell_type": "code",
   "execution_count": 4,
   "metadata": {},
   "outputs": [
    {
     "name": "stdout",
     "output_type": "stream",
     "text": [
      "weights\n",
      " [[-34.12731481]\n",
      " [  9.03591206]]\n",
      "Equation ---->   [-34.12731481]  +  [9.03591206] x\n"
     ]
    }
   ],
   "source": [
    "#calculating value of W where rm is 'X' and medv is 't' (question 4)\n",
    "X = np.hstack((np.ones_like(rm),rm))\n",
    "XX = np.dot(X.T,X)\n",
    "invXX = np.linalg.inv(XX)\n",
    "Xt = np.dot(X.T,medv)\n",
    "weight = np.dot(invXX,Xt)\n",
    "print('weights\\n',weight)\n",
    "\n",
    "#equation for MEDV as linear function of RM\n",
    "print ('Equation ---->  ',weight[0],' + ',weight[1],'x')"
   ]
  },
  {
   "cell_type": "code",
   "execution_count": 19,
   "metadata": {},
   "outputs": [
    {
     "data": {
      "text/plain": [
       "[<matplotlib.lines.Line2D at 0x2296f642970>]"
      ]
     },
     "execution_count": 19,
     "metadata": {},
     "output_type": "execute_result"
    },
    {
     "data": {
      "image/png": "[encoded data removed]",
      "text/plain": [
       "<Figure size 432x288 with 1 Axes>"
      ]
     },
     "metadata": {
      "needs_background": "light"
     },
     "output_type": "display_data"
    }
   ],
   "source": [
    "#adding a line to represent least square using weight calculated above (question 5)\n",
    "testx = np.linspace(min(rm),max(rm),404)\n",
    "testX = np.hstack((np.ones_like(testx),testx))\n",
    "testt = np.dot(testX,weight)\n",
    "\n",
    "#same code from question 3\n",
    "plt.plot(rm, medv, 'ro')\n",
    "plt.xlabel('Median Values of homes')\n",
    "plt.ylabel('Average Room numbers')\n",
    "plt.grid(axis='x', color='0.5')\n",
    "plt.grid(axis='y', color='0.5')\n",
    "plt.plot(testx,testt,'b')"
   ]
  },
  {
   "cell_type": "code",
   "execution_count": 7,
   "metadata": {},
   "outputs": [
    {
     "name": "stdout",
     "output_type": "stream",
     "text": [
      "Mean Squared Error (target) ---------->  [[41.05654883]]\n"
     ]
    }
   ],
   "source": [
    "#predicting the target value and computing the average loss (mean squared error) (question 6)\n",
    "predictedTarget = np.dot(X, weight)\n",
    "MSE_target = (1/predictedTarget.size)* np.dot((medv-predictedTarget).T, medv-predictedTarget)\n",
    "print('Mean Squared Error (target) ----------> ', MSE_target)"
   ]
  },
  {
   "cell_type": "code",
   "execution_count": 20,
   "metadata": {},
   "outputs": [
    {
     "name": "stdout",
     "output_type": "stream",
     "text": [
      "Mean Squared Error (validation) ------>  [[53.30625795]]\n",
      "\n",
      "Loss for target set is less than the loss for validation set\n"
     ]
    }
   ],
   "source": [
    "#repeating the calculations in question 6 for the validation set to find the average loss (question 7)\n",
    "medvValidation = validationPart_Target[:,None]\n",
    "rmValidation = validationPart_Features[:,5][:,None]\n",
    "X_valid = np.hstack((np.ones_like(rmValidation),rmValidation))\n",
    "XX_valid = np.dot(X_valid.T,X_valid)\n",
    "invXX_valid = np.linalg.inv(XX_valid)\n",
    "Xt_valid = np.dot(X_valid.T,medvValidation)\n",
    "weight_validation = np.dot(invXX_valid,Xt_valid)\n",
    "\n",
    "target_validation = np.dot(X_valid, weight_validation)\n",
    "MSE_validation = (1/target_validation.size)* np.dot((medvValidation-target_validation).T, medvValidation-target_validation)\n",
    "\n",
    "print('Mean Squared Error (validation) ------> ',MSE_validation)\n",
    "if (MSE_target < MSE_validation):\n",
    "    print('\\nLoss for target set is less than the loss for validation set')\n",
    "else:\n",
    "    print('\\nLoss for validation set is less than the loss for target set')\n"
   ]
  },
  {
   "cell_type": "code",
   "execution_count": 9,
   "metadata": {},
   "outputs": [
    {
     "name": "stdout",
     "output_type": "stream",
     "text": [
      "weights\n",
      " [[ 3.19642409e+01]\n",
      " [-1.14552861e-01]\n",
      " [ 4.48932130e-02]\n",
      " [ 2.83755698e-02]\n",
      " [ 2.70909742e+00]\n",
      " [-1.67403672e+01]\n",
      " [ 4.11148209e+00]\n",
      " [-8.47905081e-04]\n",
      " [-1.38493905e+00]\n",
      " [ 3.21084569e-01]\n",
      " [-1.22497115e-02]\n",
      " [-9.12523500e-01]\n",
      " [ 1.02533638e-02]\n",
      " [-4.78414631e-01]]\n",
      "Mean Squared Error --->  [[21.80719958]]\n",
      "MSE for all from validation ------>>   [[20.21414888]]\n"
     ]
    }
   ],
   "source": [
    "#repeating question 4, 6 and 7 for all 13 input features as 'X' (question 8)\n",
    "\n",
    "X1 = np.hstack((np.ones_like(trainingPart_Features[:,0][:,None]), trainingPart_Features))\n",
    "\n",
    "X1X1 = np.dot(X1.T,X1)\n",
    "invX1X1 = np.linalg.inv(X1X1)\n",
    "X1t = np.dot(X1.T,medv)\n",
    "weightAll = np.dot(invX1X1,X1t)\n",
    "print('weights\\n',weightAll)\n",
    "\n",
    "\n",
    "predictedTarget_all = np.dot(X1, weightAll)\n",
    "MSE = (1/predictedTarget_all.size)* np.dot((medv-predictedTarget_all).T, medv-predictedTarget_all)\n",
    "print('Mean Squared Error ---> ', MSE)\n",
    "\n",
    "\n",
    "X1_valid = np.hstack((np.ones_like(validationPart_Features[:,0][:,None]), validationPart_Features))\n",
    "X1X1_valid = np.dot(X1_valid.T,X1_valid)\n",
    "invX1X1_valid = np.linalg.inv(X1X1_valid)\n",
    "X1t_valid = np.dot(X1_valid.T,medvValidation)\n",
    "weight1_validation = np.dot(invX1X1_valid,X1t_valid)\n",
    "\n",
    "target1_validation = np.dot(X1_valid, weight1_validation)\n",
    "MSE1_validation = (1/target1_validation.size)* np.dot((medvValidation-target1_validation).T, medvValidation-target1_validation)\n",
    "\n",
    "print('MSE for all from validation ------>>  ',MSE1_validation)"
   ]
  },
  {
   "cell_type": "code",
   "execution_count": 21,
   "metadata": {},
   "outputs": [
    {
     "name": "stdout",
     "output_type": "stream",
     "text": [
      "Parameters                Value\n",
      "CRIM                  $-114.55\n",
      "ZN                    $44.89\n",
      "INDUS                 $28.38\n",
      "CHAS                  $2709.10\n",
      "NOX                   $-16740.37\n",
      "RM                    $4111.48\n",
      "AGE                   $-0.85\n",
      "DIS                   $-1384.94\n",
      "RAD                   $321.08\n",
      "TAX                   $-12.25\n",
      "PTRATIO               $-912.52\n",
      "B                     $10.25\n",
      "LSTAT                 $-478.41\n"
     ]
    }
   ],
   "source": [
    "#calulating the values (in dollar) by which the median value of price will change (question 9)\n",
    "testW = weightAll * 1000\n",
    "np.set_printoptions(suppress=True)\n",
    "\n",
    "table = {'CRIM':float(testW[1])\n",
    "         , 'ZN':float(testW[2])\n",
    "         , 'INDUS':float(testW[3])\n",
    "         , 'CHAS':float(testW[4])\n",
    "         , 'NOX':float(testW[5])\n",
    "         , 'RM':float(testW[6])\n",
    "         , 'AGE':float(testW[7])\n",
    "         , 'DIS':float(testW[8])\n",
    "         , 'RAD':float(testW[9])\n",
    "         , 'TAX':float(testW[10])\n",
    "         , 'PTRATIO':float(testW[11])\n",
    "         , 'B':float(testW[12])\n",
    "         , 'LSTAT':float(testW[13])}\n",
    "\n",
    "print ('Parameters                Value')\n",
    "for parameter, values in table.items():\n",
    "    print(f'{parameter:10}            ${values:5.2f}')"
   ]
  },
  {
   "cell_type": "code",
   "execution_count": 11,
   "metadata": {},
   "outputs": [],
   "source": [
    "# The most important feature which affect the price are as follows\n",
    "\n",
    "# 1. Nitric oxides concentration (parts per 10 million) (NOX)\n",
    "# 2. average number of rooms per dwelling (RM)\n",
    "# 3. Charles River dummy variable (CHAS)\n",
    "# 4. distances to five Boston employment centres (DIS)"
   ]
  }
 ],
 "metadata": {
  "kernelspec": {
   "display_name": "Python 3",
   "language": "python",
   "name": "python3"
  },
  "language_info": {
   "codemirror_mode": {
    "name": "ipython",
    "version": 3
   },
   "file_extension": ".py",
   "mimetype": "text/x-python",
   "name": "python",
   "nbconvert_exporter": "python",
   "pygments_lexer": "ipython3",
   "version": "3.8.5"
  }
 },
 "nbformat": 4,
 "nbformat_minor": 4
}
